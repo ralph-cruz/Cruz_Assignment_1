{
 "cells": [
  {
   "cell_type": "markdown",
   "metadata": {},
   "source": [
    "## CoffeePython POS Terminal"
   ]
  },
  {
   "cell_type": "markdown",
   "metadata": {},
   "source": [
    "CoffeePython is a new specialty coffee place along Katipunan. It commissioned students to build a crude character-mode terminal based on Python.\n",
    "\n",
    "It has the following products:\n",
    "\n",
    "\n",
    "| Code          | Product Name  |  Price |\n",
    "|---------------|---------------|--------|\n",
    "| brewedcoffee  | Brewed Coffee | 120.00 |\n",
    "| espresso      | Espresso      | 140.00 |\n",
    "| americano     | Americano     | 150.00 |\n",
    "| capuccino     | Capuccino     | 170.00 |\n"
   ]
  },
  {
   "cell_type": "markdown",
   "metadata": {},
   "source": [
    "A Python dictionary containing the product information has already been created by someone else:\n",
    "    "
   ]
  },
  {
   "cell_type": "code",
   "execution_count": 1,
   "metadata": {},
   "outputs": [],
   "source": [
    "products = {\n",
    "    \"brewedcoffee\":{\"name\":\"Brewed Coffee\",\"price\":120.00},\n",
    "    \"espresso\":{\"name\":\"Espresso\",\"price\":140.00},\n",
    "    \"americano\":{\"name\":\"Americano\",\"price\":150.00},\n",
    "    \"capuccino\":{\"name\":\"Capuccino\",\"price\":170.00},\n",
    "}"
   ]
  },
  {
   "cell_type": "markdown",
   "metadata": {},
   "source": [
    "### 1. product information lookup function (3 points)\n",
    "\n",
    "Write a function ```get_product(code)``` where code is the key of the product information in the products dictionary. The function should return the dictionary containing the specific product information.\n",
    "For example:\n",
    "\n",
    "\n",
    "**```get_product(\"espresso\")```**\n",
    "\n",
    "should yield\n",
    "\n",
    "**```{\"name\":\"Espresso\",\"price\":140.00}```**\n"
   ]
  },
  {
   "cell_type": "code",
   "execution_count": 2,
   "metadata": {},
   "outputs": [
    {
     "data": {
      "text/plain": [
       "{'name': 'Espresso', 'price': 140.0}"
      ]
     },
     "execution_count": 2,
     "metadata": {},
     "output_type": "execute_result"
    }
   ],
   "source": [
    "## Answer\n",
    "\n",
    "def get_product(code):\n",
    "    ## write your code here\n",
    "    return products[code]\n",
    "\n",
    "get_product(\"espresso\")"
   ]
  },
  {
   "cell_type": "markdown",
   "metadata": {},
   "source": [
    "### 2. retrieve product attributes (2 points)\n",
    "a. Write one line of code that calls ```get_product(code)``` and returns the price of that product.\n",
    "\n",
    "**Update:**\n",
    "You may include your one line of code inside a function. The function definition and the return statements are excluded from the count.\n"
   ]
  },
  {
   "cell_type": "code",
   "execution_count": 3,
   "metadata": {},
   "outputs": [
    {
     "data": {
      "text/plain": [
       "140.0"
      ]
     },
     "execution_count": 3,
     "metadata": {},
     "output_type": "execute_result"
    }
   ],
   "source": [
    "## Answer:\n",
    "def get_product(code):\n",
    "## write your answer here\n",
    " return products[code][\"price\"]\n",
    "\n",
    "get_product(\"espresso\")"
   ]
  },
  {
   "cell_type": "markdown",
   "metadata": {},
   "source": [
    "b. Write one line of code that calls ```get_product(code)``` and returns the name of that product.\n",
    "\n",
    "**Update:**\n",
    "You may include your one line of code inside a function. The function definition and the return statements are excluded from the count."
   ]
  },
  {
   "cell_type": "code",
   "execution_count": 4,
   "metadata": {},
   "outputs": [
    {
     "data": {
      "text/plain": [
       "'Espresso'"
      ]
     },
     "execution_count": 4,
     "metadata": {},
     "output_type": "execute_result"
    }
   ],
   "source": [
    "## Answer:\n",
    "def get_product(code):\n",
    "## write your answer here\n",
    " return products[code][\"name\"]\n",
    "\n",
    "get_product(\"espresso\")"
   ]
  },
  {
   "cell_type": "markdown",
   "metadata": {},
   "source": [
    "### 2. Point-of-Sale Terminal  (5 points)\n",
    "\n",
    "Write a function ```main``` that asks for orders of food from a customer. The system should ask for the following:\n",
    "* Product Code (assume that the clerk has memorized the product codes)\n",
    "* Quantity\n",
    "\n",
    "The system then must update an electronic **food tray** (which is just a fancy term for a list of items ordered). Implement the food tray as a list of ordered items, each of which is a *dictionary* containing the following key-value pairs: \n",
    "\n",
    "* product_code, \n",
    "* quantity\n",
    "* subtotal *(which is just the quantity multiplied by the price of the product)*\n",
    "\n",
    "Design your program such that **food_tray** is a variable of the **main** function for now. We will deal with better software design later on. In any case, if any of your functions need to work on the food_tray, pass it as a parameter.\n",
    "\n",
    "The system must compute the subtotal before appending to the food tray.\n",
    "\n",
    "The system must be able to determine if the customer is done with his/her order. Once done, the system notifies the clerk/user of the grand total. \n",
    "\n",
    "The system then prints out the receipt (for now, just show it appear in the notebook), after which it is ready to process the next customer order. Make sure to clear out the food_tray after each successful order.\n",
    "\n",
    "**Bonus (2 points):**\n",
    "Format the receipt output using various print formatting options. You will have to do research on this.\n",
    "\n",
    "**Bonus (2 points):**\n",
    "If the cashier enters an invalid product code, handle the errors gracefully. For one, the system should not bomb out while processing something invalid; rather, it should tell the cashier that he/she entered an invalid product code and to try again.\n",
    "Note that you will have to do research on Error and Exception handling."
   ]
  },
  {
   "cell_type": "code",
   "execution_count": 25,
   "metadata": {},
   "outputs": [],
   "source": [
    "food_tray = []\n",
    "def add_to_tray(food_tray, ordered_item):\n",
    "    '''\n",
    "    @type food_tray: list\n",
    "    @rtype: None\n",
    "    >>> food_tray = []\n",
    "    >>> add_to_tray(food_tray,{\"code\":\"brewedcoffee\",\"qty\":2,\"subtotal\":240})\n",
    "    >>> add_to_tray(food_tray,{\"code\":\"capuccino\",\"qty\":1,\"subtotal\":170})\n",
    "    >>> food_tray\n",
    "    [{'code': 'brewedcoffee', 'qty': 2, 'subtotal': 240}, {'code': 'capuccino', 'qty': 1, 'subtotal': 170}]\n",
    "    '''\n",
    "    ## write your code here\n",
    "    ## hint: append to the food_tray list\n",
    "    food_tray.append(ordered_item)\n",
    "    \n",
    "add_to_tray(food_tray,{\"code\":\"brewedcoffee\",\"qty\":2,\"subtotal\":240})\n",
    "add_to_tray(food_tray,{\"code\":\"capuccino\",\"qty\":1,\"subtotal\":170})"
   ]
  },
  {
   "cell_type": "code",
   "execution_count": 26,
   "metadata": {},
   "outputs": [
    {
     "data": {
      "text/plain": [
       "[{'code': 'brewedcoffee', 'qty': 2, 'subtotal': 240},\n",
       " {'code': 'capuccino', 'qty': 1, 'subtotal': 170}]"
      ]
     },
     "execution_count": 26,
     "metadata": {},
     "output_type": "execute_result"
    }
   ],
   "source": [
    "food_tray"
   ]
  },
  {
   "cell_type": "code",
   "execution_count": 29,
   "metadata": {},
   "outputs": [
    {
     "ename": "SyntaxError",
     "evalue": "invalid syntax (<ipython-input-29-467363e5d243>, line 12)",
     "output_type": "error",
     "traceback": [
      "\u001b[0;36m  File \u001b[0;32m\"<ipython-input-29-467363e5d243>\"\u001b[0;36m, line \u001b[0;32m12\u001b[0m\n\u001b[0;31m    for i in food_tray:\u001b[0m\n\u001b[0m                      ^\u001b[0m\n\u001b[0;31mSyntaxError\u001b[0m\u001b[0;31m:\u001b[0m invalid syntax\n"
     ]
    }
   ],
   "source": [
    "def generate_receipt(food_tray):\n",
    "    ## write your code here\n",
    "    ## it is expected you will use print instead of returning a value\n",
    "    ## hint: use accumulator pattern and loop through the items in the food tray\n",
    "    ## hint: you will have to look up the product name from the products dictionary to make the receipt\n",
    "    ##       more presentable\n",
    "    item = 0 \n",
    "    print ('{:>50}'.format(\"Welcome to CoffeePython\"))\n",
    "    print (\"|\"*50)\n",
    "    while item < len(food_tray):\n",
    "        print (\"{code} {qty} {subtotal}\".format(code = food_tray[\"code\"], qty = food_tray[\"qty\"], subtotal = food_tray[\"subtotal\"])\n",
    "        for i in food_tray: \n",
    "        item += 1 \n",
    "\n",
    "    print (\" \")\n",
    "    print (\"|\"*50)\n",
    "\n",
    "print (generate_receipt)"
   ]
  },
  {
   "cell_type": "markdown",
   "metadata": {},
   "source": [
    "**Hint:** The ```ordered_item``` dictionary inside ```main()``` has at least three keys: ```code```, ```qty```, and ```subtotal```. You know how to get ```code``` and ```qty``` as these come from variables storing entered values from ```input(\"...\")```. To compute ```subtotal``` you need to get the price of the product (using ```code```) somewhere. Your answer in 2a. will help you.\n",
    "\n",
    "This new ```ordered_item``` dictionary will then need to be added to the ```food_tray``` list in a later step. We can add dictionaries to lists, right? Call the function ```add_to_tray(food_tray, ordered_item)``` to do this.\n",
    "\n",
    "The variable ```food_tray``` is a **list** of **dictionaries**. The ```ordered_item``` variable is a **dictionary**."
   ]
  },
  {
   "cell_type": "code",
   "execution_count": 1,
   "metadata": {},
   "outputs": [],
   "source": [
    "def main():\n",
    "    \n",
    "    food_tray = []\n",
    "    command = \"N\"\n",
    "    while(True):\n",
    "        command = input(\"Options: N-New customer, Q-Quit \")\n",
    "        if(command.upper()==\"Q\"):\n",
    "            break\n",
    "        else:\n",
    "            more = \"Y\"\n",
    "            while(more==\"Y\"):\n",
    "                code = input(\"Enter Product Code: \")\n",
    "                qty = input(\"Enter Quantity\")\n",
    "                print(code + \": \"+str(qty))\n",
    "                \n",
    "                ordered_item = dict()                \n",
    "                ## add your code here\n",
    "                ## hint: add the key-value pairs for code, qty and subtotal to ordered_item, which was already\n",
    "                ##       initialized for you here.\n",
    "                ## hint: subtotal = qty * price. Now how do you get the price?\n",
    "                ## compute subtotal and add to the ordered_item dictionary\n",
    "                \n",
    "                ## add to food_tray\n",
    "                ## call add_to_tray and pass the parameters food_tray and ordered_item\n",
    "\n",
    "                more = input(\"Add more items? (Y/N): \").upper()\n",
    "                \n",
    "        generate_receipt(food_tray)\n",
    "        food_tray = [] # clear out food tray\n",
    "        \n",
    "        \n",
    "    print(\"Exiting CoffeePython POS Terminal. Have a great day.\")\n",
    "        "
   ]
  },
  {
   "cell_type": "code",
   "execution_count": 25,
   "metadata": {},
   "outputs": [
    {
     "name": "stdout",
     "output_type": "stream",
     "text": [
      "Options: N-New customer, Q-Quit Q\n",
      "Exiting CoffeePython POS Terminal. Have a great day.\n"
     ]
    }
   ],
   "source": [
    "main()"
   ]
  },
  {
   "cell_type": "code",
   "execution_count": null,
   "metadata": {},
   "outputs": [],
   "source": []
  }
 ],
 "metadata": {
  "kernelspec": {
   "display_name": "Python 3",
   "language": "python",
   "name": "python3"
  },
  "language_info": {
   "codemirror_mode": {
    "name": "ipython",
    "version": 3
   },
   "file_extension": ".py",
   "mimetype": "text/x-python",
   "name": "python",
   "nbconvert_exporter": "python",
   "pygments_lexer": "ipython3",
   "version": "3.7.3"
  }
 },
 "nbformat": 4,
 "nbformat_minor": 2
}
